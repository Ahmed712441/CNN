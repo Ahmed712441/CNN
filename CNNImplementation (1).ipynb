{
  "nbformat": 4,
  "nbformat_minor": 0,
  "metadata": {
    "colab": {
      "name": "CNNImplementation.ipynb",
      "provenance": [],
      "collapsed_sections": [],
      "toc_visible": true
    },
    "kernelspec": {
      "name": "python3",
      "display_name": "Python 3"
    },
    "language_info": {
      "name": "python"
    },
    "accelerator": "GPU",
    "widgets": {
      "application/vnd.jupyter.widget-state+json": {
        "49ab89b9a6b64045ae9164540d5f556c": {
          "model_module": "@jupyter-widgets/controls",
          "model_name": "HBoxModel",
          "state": {
            "_view_name": "HBoxView",
            "_dom_classes": [],
            "_model_name": "HBoxModel",
            "_view_module": "@jupyter-widgets/controls",
            "_model_module_version": "1.5.0",
            "_view_count": null,
            "_view_module_version": "1.5.0",
            "box_style": "",
            "layout": "IPY_MODEL_e4d35106b71f4b2697eb19c22bdb001f",
            "_model_module": "@jupyter-widgets/controls",
            "children": [
              "IPY_MODEL_2148a958cf544e10a52121ac2a2c9c66",
              "IPY_MODEL_e175dcf1f4814658824ae5af6de225e6"
            ]
          }
        },
        "e4d35106b71f4b2697eb19c22bdb001f": {
          "model_module": "@jupyter-widgets/base",
          "model_name": "LayoutModel",
          "state": {
            "_view_name": "LayoutView",
            "grid_template_rows": null,
            "right": null,
            "justify_content": null,
            "_view_module": "@jupyter-widgets/base",
            "overflow": null,
            "_model_module_version": "1.2.0",
            "_view_count": null,
            "flex_flow": null,
            "width": null,
            "min_width": null,
            "border": null,
            "align_items": null,
            "bottom": null,
            "_model_module": "@jupyter-widgets/base",
            "top": null,
            "grid_column": null,
            "overflow_y": null,
            "overflow_x": null,
            "grid_auto_flow": null,
            "grid_area": null,
            "grid_template_columns": null,
            "flex": null,
            "_model_name": "LayoutModel",
            "justify_items": null,
            "grid_row": null,
            "max_height": null,
            "align_content": null,
            "visibility": null,
            "align_self": null,
            "height": null,
            "min_height": null,
            "padding": null,
            "grid_auto_rows": null,
            "grid_gap": null,
            "max_width": null,
            "order": null,
            "_view_module_version": "1.2.0",
            "grid_template_areas": null,
            "object_position": null,
            "object_fit": null,
            "grid_auto_columns": null,
            "margin": null,
            "display": null,
            "left": null
          }
        },
        "2148a958cf544e10a52121ac2a2c9c66": {
          "model_module": "@jupyter-widgets/controls",
          "model_name": "FloatProgressModel",
          "state": {
            "_view_name": "ProgressView",
            "style": "IPY_MODEL_466caff3103144ec982965e081f53d93",
            "_dom_classes": [],
            "description": "Dl Completed...: 100%",
            "_model_name": "FloatProgressModel",
            "bar_style": "success",
            "max": 4,
            "_view_module": "@jupyter-widgets/controls",
            "_model_module_version": "1.5.0",
            "value": 4,
            "_view_count": null,
            "_view_module_version": "1.5.0",
            "orientation": "horizontal",
            "min": 0,
            "description_tooltip": null,
            "_model_module": "@jupyter-widgets/controls",
            "layout": "IPY_MODEL_facfea8061654057b910288dd40a2e0d"
          }
        },
        "e175dcf1f4814658824ae5af6de225e6": {
          "model_module": "@jupyter-widgets/controls",
          "model_name": "HTMLModel",
          "state": {
            "_view_name": "HTMLView",
            "style": "IPY_MODEL_6a37d535a0f94147b8e3a0de7e73bc32",
            "_dom_classes": [],
            "description": "",
            "_model_name": "HTMLModel",
            "placeholder": "​",
            "_view_module": "@jupyter-widgets/controls",
            "_model_module_version": "1.5.0",
            "value": " 4/4 [00:00&lt;00:00,  8.67 file/s]",
            "_view_count": null,
            "_view_module_version": "1.5.0",
            "description_tooltip": null,
            "_model_module": "@jupyter-widgets/controls",
            "layout": "IPY_MODEL_87f22509267c4149a94c2a4ae63b43d1"
          }
        },
        "466caff3103144ec982965e081f53d93": {
          "model_module": "@jupyter-widgets/controls",
          "model_name": "ProgressStyleModel",
          "state": {
            "_view_name": "StyleView",
            "_model_name": "ProgressStyleModel",
            "description_width": "initial",
            "_view_module": "@jupyter-widgets/base",
            "_model_module_version": "1.5.0",
            "_view_count": null,
            "_view_module_version": "1.2.0",
            "bar_color": null,
            "_model_module": "@jupyter-widgets/controls"
          }
        },
        "facfea8061654057b910288dd40a2e0d": {
          "model_module": "@jupyter-widgets/base",
          "model_name": "LayoutModel",
          "state": {
            "_view_name": "LayoutView",
            "grid_template_rows": null,
            "right": null,
            "justify_content": null,
            "_view_module": "@jupyter-widgets/base",
            "overflow": null,
            "_model_module_version": "1.2.0",
            "_view_count": null,
            "flex_flow": null,
            "width": null,
            "min_width": null,
            "border": null,
            "align_items": null,
            "bottom": null,
            "_model_module": "@jupyter-widgets/base",
            "top": null,
            "grid_column": null,
            "overflow_y": null,
            "overflow_x": null,
            "grid_auto_flow": null,
            "grid_area": null,
            "grid_template_columns": null,
            "flex": null,
            "_model_name": "LayoutModel",
            "justify_items": null,
            "grid_row": null,
            "max_height": null,
            "align_content": null,
            "visibility": null,
            "align_self": null,
            "height": null,
            "min_height": null,
            "padding": null,
            "grid_auto_rows": null,
            "grid_gap": null,
            "max_width": null,
            "order": null,
            "_view_module_version": "1.2.0",
            "grid_template_areas": null,
            "object_position": null,
            "object_fit": null,
            "grid_auto_columns": null,
            "margin": null,
            "display": null,
            "left": null
          }
        },
        "6a37d535a0f94147b8e3a0de7e73bc32": {
          "model_module": "@jupyter-widgets/controls",
          "model_name": "DescriptionStyleModel",
          "state": {
            "_view_name": "StyleView",
            "_model_name": "DescriptionStyleModel",
            "description_width": "",
            "_view_module": "@jupyter-widgets/base",
            "_model_module_version": "1.5.0",
            "_view_count": null,
            "_view_module_version": "1.2.0",
            "_model_module": "@jupyter-widgets/controls"
          }
        },
        "87f22509267c4149a94c2a4ae63b43d1": {
          "model_module": "@jupyter-widgets/base",
          "model_name": "LayoutModel",
          "state": {
            "_view_name": "LayoutView",
            "grid_template_rows": null,
            "right": null,
            "justify_content": null,
            "_view_module": "@jupyter-widgets/base",
            "overflow": null,
            "_model_module_version": "1.2.0",
            "_view_count": null,
            "flex_flow": null,
            "width": null,
            "min_width": null,
            "border": null,
            "align_items": null,
            "bottom": null,
            "_model_module": "@jupyter-widgets/base",
            "top": null,
            "grid_column": null,
            "overflow_y": null,
            "overflow_x": null,
            "grid_auto_flow": null,
            "grid_area": null,
            "grid_template_columns": null,
            "flex": null,
            "_model_name": "LayoutModel",
            "justify_items": null,
            "grid_row": null,
            "max_height": null,
            "align_content": null,
            "visibility": null,
            "align_self": null,
            "height": null,
            "min_height": null,
            "padding": null,
            "grid_auto_rows": null,
            "grid_gap": null,
            "max_width": null,
            "order": null,
            "_view_module_version": "1.2.0",
            "grid_template_areas": null,
            "object_position": null,
            "object_fit": null,
            "grid_auto_columns": null,
            "margin": null,
            "display": null,
            "left": null
          }
        }
      }
    }
  },
  "cells": [
    {
      "cell_type": "code",
      "metadata": {
        "id": "Yku65ppeil1o"
      },
      "source": [
        "import numpy as np\n",
        "\n",
        "\n",
        "class Softmax:\n",
        "  \n",
        "  def __init__(self,input_layer,output_layer):\n",
        "    self.shape = (input_layer,output_layer)\n",
        "    self.out = np.array(output_layer)\n",
        "    self.weights = np.random.randn(input_layer,output_layer) / (input_layer*output_layer)\n",
        "    self.baises = np.zeros(output_layer)\n",
        "    self.parameters = input_layer*output_layer + output_layer  \n",
        "  \n",
        "  def forward(self,input,flatten = True):\n",
        "    if flatten:\n",
        "      input = input.flatten()\n",
        "    self.input = input\n",
        "    self.out =  np.dot(input,self.weights) + self.baises\n",
        "    exp = np.exp(self.out)\n",
        "    self.out = exp / np.sum(exp,axis=0)\n",
        "  \n",
        "  def backward(self,label,learning_rate=0.007):\n",
        "    \n",
        "    dl_dw = np.random.randn(self.shape[0],self.shape[1])\n",
        "    self.deraivative = np.zeros(self.shape[0])\n",
        "    dl_dz = np.copy(self.out)\n",
        "    dl_dz[label] = -(1-self.out[label])\n",
        "    for i in range(self.shape[0]):\n",
        "      self.deraivative[i] = np.dot(dl_dz,self.weights[i])\n",
        "      for j in range(self.shape[1]):\n",
        "        dl_dw[i][j] = dl_dz[j] * self.input[i]\n",
        "        self.weights[i][j] -= learning_rate*dl_dw[i][j]\n",
        "      self.baises -= learning_rate*dl_dz\n",
        "    \n",
        "  def summary(self):\n",
        "    print(f'Softmax_layer ====> input_shape : {self.shape[0]} ===========> output_shape : {self.shape[1]} ===========> paramaters : {self.parameters}') \n",
        "    print(f'==========================================================================================================================================')\n",
        "class Relu:\n",
        "  \n",
        "  def __init__(self,input_layer,output_layer):\n",
        "    self.shape = (input_layer,output_layer)\n",
        "    self.out = np.array(output_layer)\n",
        "    self.weights = np.random.randn(input_layer,output_layer) / (input_layer*output_layer)\n",
        "    self.baises = np.zeros(output_layer)\n",
        "    self.parameters = input_layer*output_layer + output_layer\n",
        "  \n",
        "  @staticmethod\n",
        "  def relu(x):\n",
        "    return max(0,x)\n",
        "  \n",
        "  def forward(self,input,flatten=True):\n",
        "    if flatten:\n",
        "      input = input.flatten()\n",
        "    self.input = input\n",
        "    self.out =  np.dot(input,self.weights) + self.baises\n",
        "    relu_np = np.vectorize(Relu.relu)\n",
        "    self.out = relu_np(self.out)\n",
        "  \n",
        "  def backward(self,dl_dx,learning_rate =0.007):\n",
        "    dl_dw = np.zeros((self.shape[0],self.shape[1]))\n",
        "    self.deraivative = np.zeros(self.shape[0])\n",
        "    for i in range(self.shape[0]):\n",
        "      self.deraivative[i] = np.dot(dl_dx,self.weights[i])\n",
        "      for j in range(self.shape[1]):\n",
        "        dl_dw[i][j] = dl_dx[j] * self.input[i]        \n",
        "    self.weights -= learning_rate*dl_dw\n",
        "    self.baises -= learning_rate*dl_dx\n",
        "    # print(self.deraivative)\n",
        "  def summary(self):\n",
        "     print(f'Relu_layer =======> input_shape : {self.shape[0]} ===========> output_shape : {self.shape[1]} ===========> paramaters : {self.parameters}')\n",
        "     print(f'==========================================================================================================================================') \n",
        "\n",
        "class Maxpool:\n",
        "  \n",
        "  def __init__(self,filter_size):\n",
        "    self.filter_size = filter_size\n",
        "    self.parameters = 0\n",
        "\n",
        "  def forward(self,img):\n",
        "    self.back_shape = (img.shape[0] ,img.shape[1] , img.shape[2])\n",
        "    self.out_shape = (img.shape[0]// self.filter_size ,img.shape[1] // self.filter_size , img.shape[2])\n",
        "    \n",
        "    self.max_indices = np.zeros(self.out_shape)\n",
        "    self.out = np.zeros(self.out_shape)\n",
        "    for c in range(self.out_shape[2]): \n",
        "      for i in range(self.out_shape[0]):\n",
        "        for j in range(self.out_shape[1]):\n",
        "          self.out[i][j][c] = np.amax(img[i*self.filter_size:i*self.filter_size+self.filter_size,j*self.filter_size:j*self.filter_size+self.filter_size,c],axis=(0,1))\n",
        "          self.max_indices[i][j][c] = np.argmax(img[i*self.filter_size:i*self.filter_size+self.filter_size,j*self.filter_size:j*self.filter_size+self.filter_size,c])\n",
        "  \n",
        "  def backward(self,dl_dx,learning_rate =0.007):\n",
        "    dl_dx = dl_dx.reshape(self.out_shape)\n",
        "    self.deraivative = np.zeros(self.back_shape)\n",
        "    for c in range(self.out_shape[2]): \n",
        "      for i in range(self.out_shape[0]):\n",
        "        for j in range(self.out_shape[1]):\n",
        "           self.deraivative[int(i + self.max_indices[i][j][c] // self.filter_size) , int(j+self.max_indices[i][j][c]%self.filter_size) ,c] = dl_dx[i][j][c]\n",
        "\n",
        "  def summary(self):\n",
        "     print(f'Maxpool_layer ====> input_shape : {self.back_shape} ===========> output_shape : {self.out_shape} ===========> paramaters : {self.parameters}')\n",
        "     print(f'==========================================================================================================================================')  \n",
        "\n",
        "class CNN:\n",
        "\n",
        "  def __init__(self,num_filters,filter_size,img_3d=1):\n",
        "    self.conv_filter = np.random.randn(filter_size,filter_size,img_3d,num_filters) / (filter_size * filter_size)\n",
        "    self.num_filters = num_filters\n",
        "    self.filter_size = filter_size\n",
        "    self.img_3d = img_3d\n",
        "    self.biases = np.zeros(num_filters)\n",
        "    self.parameters = filter_size*filter_size*img_3d*num_filters + num_filters\n",
        "\n",
        "  def forward(self,img):\n",
        "    self.img = img\n",
        "    self.out = np.zeros((img.shape[0]-self.filter_size,img.shape[1]-self.filter_size,self.num_filters))\n",
        "    for f in range(self.num_filters):\n",
        "      for i in range(self.out.shape[0]):\n",
        "        for j in range(self.out.shape[1]):\n",
        "            self.out[i,j,f] = np.sum(img[i:i+self.filter_size,j:j+self.filter_size,:]*self.conv_filter[:,:,:,f])  + self.biases[f]\n",
        "    return self.out\n",
        "\n",
        "  def backward(self,dl_dx,learning_rate=0.007):\n",
        "    # print(dl_dx.shape,self.out.shape)\n",
        "    self.deraivative = np.zeros(self.img.shape)\n",
        "    for f in range(self.num_filters):\n",
        "      x , y = np.nonzero(dl_dx[f])\n",
        "      for i in range(len(x)):\n",
        "        self.deraivative[x[i]:x[i]+self.filter_size,y[i]:y[i]+self.filter_size,:] += dl_dx[x[i],y[i],f] * self.conv_filter[:,:,:,f]\n",
        "    for f in range(self.num_filters):\n",
        "      x , y = np.nonzero(dl_dx[f])\n",
        "      dl_dw = np.zeros((self.filter_size,self.filter_size,self.img_3d))\n",
        "      for i in range(len(x)):\n",
        "        dl_dw += dl_dx[x[i],y[i],f]*self.img[x[i]:x[i]+self.filter_size,y[i]:y[i]+self.filter_size,:] \n",
        "      self.conv_filter[:,:,:,f] -=  learning_rate*dl_dw\n",
        "      self.biases[f] -= np.sum(learning_rate*dl_dx[f].flatten())\n",
        "    # print(\"filter 0 : \",self.conv_filter[:,:,:,0])\n",
        "    print(\"biases : \",self.biases)\n",
        "  def summary(self):\n",
        "\n",
        "     print(f'Conv_layer ====> input_shape : {self.img.shape} ===========> output_shape : {self.out.shape} ===========> paramaters : {self.parameters}')\n",
        "     print(f'==========================================================================================================================================')\n"
      ],
      "execution_count": 1,
      "outputs": []
    },
    {
      "cell_type": "code",
      "metadata": {
        "id": "vS7CT-sYiv4p"
      },
      "source": [
        "class Model:\n",
        "  def __init__(self):\n",
        "    self.layers = []\n",
        "    self.parameters = 0\n",
        "  def add(self,layer):\n",
        "    self.layers.append(layer)\n",
        "    self.parameters += layer.parameters\n",
        "  \n",
        "  def summary(self):\n",
        "    for i in range(len(self.layers)):\n",
        "      self.layers[i].summary() \n",
        "    print(f'layers : {len(self.layers)}  ===========>  parameters : {self.parameters}')\n",
        "\n",
        "  def compile(self,x_train,labels,epochs,learning_rate=0.007,decaying_rate = 0,one_hot_encoded = False):\n",
        "    if one_hot_encoded:\n",
        "      for j in range(len(labels)):\n",
        "        labels[j] = np.argmax(labels[j])\n",
        "    for i in range(int(epochs)):\n",
        "      loss = 0\n",
        "      correct = 0\n",
        "      for j in range(x_train.shape[0]):\n",
        "        image, label = x_train[j], labels[j]\n",
        "        predicted = self.forward(image)\n",
        "        self.backward(labels[j],learning_rate)\n",
        "        loss -= np.log(predicted[label])\n",
        "        predicted = np.argmax(predicted)\n",
        "        if predicted == labels[j]:\n",
        "          correct+=1\n",
        "      learning_rate = learning_rate / (1+ (i+1)*decaying_rate)\n",
        "      print(\"learning_rate : \",learning_rate)        \n",
        "      print(f'Epoch: {i+1} ----------------- loss : {loss/x_train.shape[0]} ----------------- accuracy : {correct/x_train.shape[0]}')\n",
        "      print(\"----------------------------------------------------------------------------------------------------------------\")\n",
        "      print(\"----------------------------------------------------------------------------------------------------------------\")\n",
        "\n",
        "  def forward(self,img):\n",
        "    self.layers[0].forward(img)\n",
        "    for i in range(1,len(self.layers)):\n",
        "      self.layers[i].forward(self.layers[i-1].out)\n",
        "    return self.layers[len(self.layers)-1].out\n",
        "\n",
        "  def backward(self,label,learning_rate = 0.007):\n",
        "    self.layers[len(self.layers)-1].backward(label,learning_rate)\n",
        "    for j in range(len(self.layers)-1):\n",
        "      self.layers[len(self.layers)-2-j].backward(self.layers[len(self.layers)-1-j].deraivative,learning_rate)\n",
        "\n",
        "  def predict(self,img):\n",
        "    return np.argmax(self.forward(img))\n",
        "  \n",
        "  def score(self,X_test,Y_test,one_hot_encoded = False):\n",
        "    labels = np.zeros(len(X_test[0]))\n",
        "    if one_hot_encoded:\n",
        "      for j in range(len(Y_test)):\n",
        "        labels[j] = np.argmax(labels[j])\n",
        "    else:\n",
        "       labels = Y_test\n",
        "    correct = 0\n",
        "    for i in range(len(X_test)):\n",
        "        image, label = X_test[i], labels[i]\n",
        "        predicted = self.forward(image)\n",
        "        predicted = np.argmax(predicted)\n",
        "        if predicted == labels[i]:\n",
        "          correct+=1\n",
        "    return correct/len(X_test)"
      ],
      "execution_count": 2,
      "outputs": []
    },
    {
      "cell_type": "code",
      "metadata": {
        "colab": {
          "base_uri": "https://localhost:8080/",
          "height": 623,
          "referenced_widgets": [
            "49ab89b9a6b64045ae9164540d5f556c",
            "e4d35106b71f4b2697eb19c22bdb001f",
            "2148a958cf544e10a52121ac2a2c9c66",
            "e175dcf1f4814658824ae5af6de225e6",
            "466caff3103144ec982965e081f53d93",
            "facfea8061654057b910288dd40a2e0d",
            "6a37d535a0f94147b8e3a0de7e73bc32",
            "87f22509267c4149a94c2a4ae63b43d1"
          ]
        },
        "id": "Tbpl9-eP698B",
        "outputId": "43554ddf-618f-44f8-d52d-1051571d1a0a"
      },
      "source": [
        "import tensorflow_datasets as tfds\n",
        "(ds_train, ds_test), ds_info = tfds.load(\n",
        "    'mnist',\n",
        "    split=['train', 'test'],\n",
        "    shuffle_files=True,\n",
        "    as_supervised=True,\n",
        "    with_info=True,\n",
        ")\n",
        "ds_info"
      ],
      "execution_count": 3,
      "outputs": [
        {
          "output_type": "stream",
          "text": [
            "\u001b[1mDownloading and preparing dataset mnist/3.0.1 (download: 11.06 MiB, generated: 21.00 MiB, total: 32.06 MiB) to /root/tensorflow_datasets/mnist/3.0.1...\u001b[0m\n"
          ],
          "name": "stdout"
        },
        {
          "output_type": "stream",
          "text": [
            "WARNING:absl:Dataset mnist is hosted on GCS. It will automatically be downloaded to your\n",
            "local data directory. If you'd instead prefer to read directly from our public\n",
            "GCS bucket (recommended if you're running on GCP), you can instead pass\n",
            "`try_gcs=True` to `tfds.load` or set `data_dir=gs://tfds-data/datasets`.\n",
            "\n"
          ],
          "name": "stderr"
        },
        {
          "output_type": "display_data",
          "data": {
            "application/vnd.jupyter.widget-view+json": {
              "model_id": "49ab89b9a6b64045ae9164540d5f556c",
              "version_minor": 0,
              "version_major": 2
            },
            "text/plain": [
              "HBox(children=(FloatProgress(value=0.0, description='Dl Completed...', max=4.0, style=ProgressStyle(descriptio…"
            ]
          },
          "metadata": {
            "tags": []
          }
        },
        {
          "output_type": "stream",
          "text": [
            "\n",
            "\n",
            "\u001b[1mDataset mnist downloaded and prepared to /root/tensorflow_datasets/mnist/3.0.1. Subsequent calls will reuse this data.\u001b[0m\n"
          ],
          "name": "stdout"
        },
        {
          "output_type": "execute_result",
          "data": {
            "text/plain": [
              "tfds.core.DatasetInfo(\n",
              "    name='mnist',\n",
              "    version=3.0.1,\n",
              "    description='The MNIST database of handwritten digits.',\n",
              "    homepage='http://yann.lecun.com/exdb/mnist/',\n",
              "    features=FeaturesDict({\n",
              "        'image': Image(shape=(28, 28, 1), dtype=tf.uint8),\n",
              "        'label': ClassLabel(shape=(), dtype=tf.int64, num_classes=10),\n",
              "    }),\n",
              "    total_num_examples=70000,\n",
              "    splits={\n",
              "        'test': 10000,\n",
              "        'train': 60000,\n",
              "    },\n",
              "    supervised_keys=('image', 'label'),\n",
              "    citation=\"\"\"@article{lecun2010mnist,\n",
              "      title={MNIST handwritten digit database},\n",
              "      author={LeCun, Yann and Cortes, Corinna and Burges, CJ},\n",
              "      journal={ATT Labs [Online]. Available: http://yann.lecun.com/exdb/mnist},\n",
              "      volume={2},\n",
              "      year={2010}\n",
              "    }\"\"\",\n",
              "    redistribution_info=,\n",
              ")"
            ]
          },
          "metadata": {
            "tags": []
          },
          "execution_count": 3
        }
      ]
    },
    {
      "cell_type": "code",
      "metadata": {
        "colab": {
          "base_uri": "https://localhost:8080/",
          "height": 546
        },
        "id": "vJaGrwvA7ROc",
        "outputId": "9b282aff-3871-4dd3-de66-f3db82b6cc3b"
      },
      "source": [
        "import matplotlib.pyplot as plt\n",
        "mnist_example = ds_train.take(2)\n",
        "for sample in mnist_example:\n",
        "    image, label = sample[0].numpy(), sample[1].numpy()\n",
        "    plt.imshow(image[:, :, 0].astype(np.uint8), cmap=plt.get_cmap(\"gray\"))\n",
        "    plt.show()\n",
        "    print(\"Label: %d\" % label)"
      ],
      "execution_count": 4,
      "outputs": [
        {
          "output_type": "display_data",
          "data": {
            "image/png": "[encoded data removed]",
            "text/plain": [
              "<Figure size 432x288 with 1 Axes>"
            ]
          },
          "metadata": {
            "tags": [],
            "needs_background": "light"
          }
        },
        {
          "output_type": "stream",
          "text": [
            "Label: 4\n"
          ],
          "name": "stdout"
        },
        {
          "output_type": "display_data",
          "data": {
            "image/png": "[encoded data removed]",
            "text/plain": [
              "<Figure size 432x288 with 1 Axes>"
            ]
          },
          "metadata": {
            "tags": [],
            "needs_background": "light"
          }
        },
        {
          "output_type": "stream",
          "text": [
            "Label: 1\n"
          ],
          "name": "stdout"
        }
      ]
    },
    {
      "cell_type": "code",
      "metadata": {
        "id": "ORQE72bm7R9e"
      },
      "source": [
        "mnist_example = ds_train.take(100)\n",
        "X_train = []\n",
        "Y_train = []\n",
        "for sample in mnist_example:\n",
        "    X_train.append(sample[0].numpy())\n",
        "    Y_train.append(sample[1].numpy())\n",
        "X_train = np.array(X_train)\n",
        "Y_train = np.array(Y_train)"
      ],
      "execution_count": 5,
      "outputs": []
    },
    {
      "cell_type": "code",
      "metadata": {
        "colab": {
          "base_uri": "https://localhost:8080/"
        },
        "id": "SElJdDGC7SG0",
        "outputId": "98f8223c-9114-454b-bfc7-7c3012b8cbdd"
      },
      "source": [
        "X_train.shape , Y_train.shape"
      ],
      "execution_count": 6,
      "outputs": [
        {
          "output_type": "execute_result",
          "data": {
            "text/plain": [
              "((100, 28, 28, 1), (100,))"
            ]
          },
          "metadata": {
            "tags": []
          },
          "execution_count": 6
        }
      ]
    },
    {
      "cell_type": "code",
      "metadata": {
        "colab": {
          "base_uri": "https://localhost:8080/"
        },
        "id": "eLJ4Eum-m4PI",
        "outputId": "f0d5caa3-cbeb-4d19-d065-58af580097a0"
      },
      "source": [
        "X_train.max()\n"
      ],
      "execution_count": 7,
      "outputs": [
        {
          "output_type": "execute_result",
          "data": {
            "text/plain": [
              "255"
            ]
          },
          "metadata": {
            "tags": []
          },
          "execution_count": 7
        }
      ]
    },
    {
      "cell_type": "code",
      "metadata": {
        "colab": {
          "base_uri": "https://localhost:8080/",
          "height": 1000
        },
        "id": "5JgdnZgcAeqy",
        "outputId": "62637a7a-5cdb-4815-95ed-6d8b0a90d936"
      },
      "source": [
        "model2 = Model()\n",
        "model2.add(CNN(8,2,1))\n",
        "model2.add(Maxpool(2))\n",
        "model2.add(Relu(1352,40))\n",
        "model2.add(Softmax(40,10))\n",
        "model2.compile(X_train/255,Y_train,40,0.1,0.02)"
      ],
      "execution_count": 9,
      "outputs": [
        {
          "output_type": "stream",
          "text": [
            "learning_rate :  0.09803921568627451\n",
            "Epoch: 1 ----------------- loss : 3.6778325818240005 ----------------- accuracy : 0.13\n",
            "----------------------------------------------------------------------------------------------------------------\n",
            "----------------------------------------------------------------------------------------------------------------\n",
            "learning_rate :  0.0942684766214178\n",
            "Epoch: 2 ----------------- loss : 3.652122814216652 ----------------- accuracy : 0.13\n",
            "----------------------------------------------------------------------------------------------------------------\n",
            "----------------------------------------------------------------------------------------------------------------\n",
            "learning_rate :  0.08893252511454508\n",
            "Epoch: 3 ----------------- loss : 3.5383404704687353 ----------------- accuracy : 0.13\n",
            "----------------------------------------------------------------------------------------------------------------\n",
            "----------------------------------------------------------------------------------------------------------------\n",
            "learning_rate :  0.08234493066161581\n",
            "Epoch: 4 ----------------- loss : 3.2688178499325096 ----------------- accuracy : 0.16\n",
            "----------------------------------------------------------------------------------------------------------------\n",
            "----------------------------------------------------------------------------------------------------------------\n",
            "learning_rate :  0.07485902787419618\n",
            "Epoch: 5 ----------------- loss : 2.895031741996208 ----------------- accuracy : 0.2\n",
            "----------------------------------------------------------------------------------------------------------------\n",
            "----------------------------------------------------------------------------------------------------------------\n",
            "learning_rate :  0.06683841774481801\n",
            "Epoch: 6 ----------------- loss : 2.6651711218360736 ----------------- accuracy : 0.23\n",
            "----------------------------------------------------------------------------------------------------------------\n",
            "----------------------------------------------------------------------------------------------------------------\n",
            "learning_rate :  0.05863019100422632\n",
            "Epoch: 7 ----------------- loss : 2.6095264335506285 ----------------- accuracy : 0.25\n",
            "----------------------------------------------------------------------------------------------------------------\n",
            "----------------------------------------------------------------------------------------------------------------\n",
            "learning_rate :  0.05054326810709166\n",
            "Epoch: 8 ----------------- loss : 1.8969168344489984 ----------------- accuracy : 0.39\n",
            "----------------------------------------------------------------------------------------------------------------\n",
            "----------------------------------------------------------------------------------------------------------------\n",
            "learning_rate :  0.04283327805685734\n",
            "Epoch: 9 ----------------- loss : 1.696089595360703 ----------------- accuracy : 0.54\n",
            "----------------------------------------------------------------------------------------------------------------\n",
            "----------------------------------------------------------------------------------------------------------------\n",
            "learning_rate :  0.035694398380714455\n",
            "Epoch: 10 ----------------- loss : 1.0604414404579503 ----------------- accuracy : 0.66\n",
            "----------------------------------------------------------------------------------------------------------------\n",
            "----------------------------------------------------------------------------------------------------------------\n",
            "learning_rate :  0.029257703590749553\n",
            "Epoch: 11 ----------------- loss : 0.7268581825857298 ----------------- accuracy : 0.75\n",
            "----------------------------------------------------------------------------------------------------------------\n",
            "----------------------------------------------------------------------------------------------------------------\n",
            "learning_rate :  0.02359492225060448\n",
            "Epoch: 12 ----------------- loss : 0.5638803349245718 ----------------- accuracy : 0.8\n",
            "----------------------------------------------------------------------------------------------------------------\n",
            "----------------------------------------------------------------------------------------------------------------\n",
            "learning_rate :  0.018726128770321013\n",
            "Epoch: 13 ----------------- loss : 0.40596330900379124 ----------------- accuracy : 0.87\n",
            "----------------------------------------------------------------------------------------------------------------\n",
            "----------------------------------------------------------------------------------------------------------------\n",
            "learning_rate :  0.014629788101813292\n",
            "Epoch: 14 ----------------- loss : 0.3353421697148641 ----------------- accuracy : 0.89\n",
            "----------------------------------------------------------------------------------------------------------------\n",
            "----------------------------------------------------------------------------------------------------------------\n",
            "learning_rate :  0.011253683155240992\n",
            "Epoch: 15 ----------------- loss : 0.2874591670109661 ----------------- accuracy : 0.89\n",
            "----------------------------------------------------------------------------------------------------------------\n",
            "----------------------------------------------------------------------------------------------------------------\n",
            "learning_rate :  0.008525517541849235\n",
            "Epoch: 16 ----------------- loss : 0.22168696197586993 ----------------- accuracy : 0.95\n",
            "----------------------------------------------------------------------------------------------------------------\n",
            "----------------------------------------------------------------------------------------------------------------\n",
            "learning_rate :  0.006362326523768086\n",
            "Epoch: 17 ----------------- loss : 0.19287053690375225 ----------------- accuracy : 0.95\n",
            "----------------------------------------------------------------------------------------------------------------\n",
            "----------------------------------------------------------------------------------------------------------------\n",
            "learning_rate :  0.004678181267476534\n",
            "Epoch: 18 ----------------- loss : 0.1781219599347224 ----------------- accuracy : 0.96\n",
            "----------------------------------------------------------------------------------------------------------------\n",
            "----------------------------------------------------------------------------------------------------------------\n",
            "learning_rate :  0.0033899864257076334\n",
            "Epoch: 19 ----------------- loss : 0.1686284054393422 ----------------- accuracy : 0.96\n",
            "----------------------------------------------------------------------------------------------------------------\n",
            "----------------------------------------------------------------------------------------------------------------\n",
            "learning_rate :  0.0024214188755054527\n",
            "Epoch: 20 ----------------- loss : 0.15177447059063398 ----------------- accuracy : 0.97\n",
            "----------------------------------------------------------------------------------------------------------------\n",
            "----------------------------------------------------------------------------------------------------------------\n",
            "learning_rate :  0.0017052245602151076\n",
            "Epoch: 21 ----------------- loss : 0.13670035515849496 ----------------- accuracy : 0.98\n",
            "----------------------------------------------------------------------------------------------------------------\n",
            "----------------------------------------------------------------------------------------------------------------\n",
            "learning_rate :  0.0011841837223716025\n",
            "Epoch: 22 ----------------- loss : 0.13152209848217702 ----------------- accuracy : 0.98\n",
            "----------------------------------------------------------------------------------------------------------------\n",
            "----------------------------------------------------------------------------------------------------------------\n",
            "learning_rate :  0.0008110847413504127\n",
            "Epoch: 23 ----------------- loss : 0.12694279331342806 ----------------- accuracy : 0.97\n",
            "----------------------------------------------------------------------------------------------------------------\n",
            "----------------------------------------------------------------------------------------------------------------\n",
            "learning_rate :  0.0005480302306421707\n",
            "Epoch: 24 ----------------- loss : 0.12701550527349614 ----------------- accuracy : 0.97\n",
            "----------------------------------------------------------------------------------------------------------------\n",
            "----------------------------------------------------------------------------------------------------------------\n",
            "learning_rate :  0.0003653534870947805\n",
            "Epoch: 25 ----------------- loss : 0.11881672709619466 ----------------- accuracy : 0.98\n",
            "----------------------------------------------------------------------------------------------------------------\n",
            "----------------------------------------------------------------------------------------------------------------\n",
            "learning_rate :  0.0002403641362465661\n",
            "Epoch: 26 ----------------- loss : 0.11832089026317094 ----------------- accuracy : 0.98\n",
            "----------------------------------------------------------------------------------------------------------------\n",
            "----------------------------------------------------------------------------------------------------------------\n",
            "learning_rate :  0.00015608060795231564\n",
            "Epoch: 27 ----------------- loss : 0.1179127773981691 ----------------- accuracy : 0.98\n",
            "----------------------------------------------------------------------------------------------------------------\n",
            "----------------------------------------------------------------------------------------------------------------\n",
            "learning_rate :  0.00010005167176430489\n",
            "Epoch: 28 ----------------- loss : 0.11742921171658653 ----------------- accuracy : 0.98\n",
            "----------------------------------------------------------------------------------------------------------------\n",
            "----------------------------------------------------------------------------------------------------------------\n",
            "learning_rate :  6.332384288880056e-05\n",
            "Epoch: 29 ----------------- loss : 0.11785464164844185 ----------------- accuracy : 0.98\n",
            "----------------------------------------------------------------------------------------------------------------\n",
            "----------------------------------------------------------------------------------------------------------------\n",
            "learning_rate :  3.957740180550035e-05\n",
            "Epoch: 30 ----------------- loss : 0.11714311441799839 ----------------- accuracy : 0.98\n",
            "----------------------------------------------------------------------------------------------------------------\n",
            "----------------------------------------------------------------------------------------------------------------\n"
          ],
          "name": "stdout"
        },
        {
          "output_type": "error",
          "ename": "KeyboardInterrupt",
          "evalue": "ignored",
          "traceback": [
            "\u001b[0;31m---------------------------------------------------------------------------\u001b[0m",
            "\u001b[0;31mKeyboardInterrupt\u001b[0m                         Traceback (most recent call last)",
            "\u001b[0;32m<ipython-input-9-366dd5e37123>\u001b[0m in \u001b[0;36m<module>\u001b[0;34m()\u001b[0m\n\u001b[1;32m      4\u001b[0m \u001b[0mmodel2\u001b[0m\u001b[0;34m.\u001b[0m\u001b[0madd\u001b[0m\u001b[0;34m(\u001b[0m\u001b[0mRelu\u001b[0m\u001b[0;34m(\u001b[0m\u001b[0;36m1352\u001b[0m\u001b[0;34m,\u001b[0m\u001b[0;36m40\u001b[0m\u001b[0;34m)\u001b[0m\u001b[0;34m)\u001b[0m\u001b[0;34m\u001b[0m\u001b[0;34m\u001b[0m\u001b[0m\n\u001b[1;32m      5\u001b[0m \u001b[0mmodel2\u001b[0m\u001b[0;34m.\u001b[0m\u001b[0madd\u001b[0m\u001b[0;34m(\u001b[0m\u001b[0mSoftmax\u001b[0m\u001b[0;34m(\u001b[0m\u001b[0;36m40\u001b[0m\u001b[0;34m,\u001b[0m\u001b[0;36m10\u001b[0m\u001b[0;34m)\u001b[0m\u001b[0;34m)\u001b[0m\u001b[0;34m\u001b[0m\u001b[0;34m\u001b[0m\u001b[0m\n\u001b[0;32m----> 6\u001b[0;31m \u001b[0mmodel2\u001b[0m\u001b[0;34m.\u001b[0m\u001b[0mcompile\u001b[0m\u001b[0;34m(\u001b[0m\u001b[0mX_train\u001b[0m\u001b[0;34m/\u001b[0m\u001b[0;36m255\u001b[0m\u001b[0;34m,\u001b[0m\u001b[0mY_train\u001b[0m\u001b[0;34m,\u001b[0m\u001b[0;36m40\u001b[0m\u001b[0;34m,\u001b[0m\u001b[0;36m0.1\u001b[0m\u001b[0;34m,\u001b[0m\u001b[0;36m0.02\u001b[0m\u001b[0;34m)\u001b[0m\u001b[0;34m\u001b[0m\u001b[0;34m\u001b[0m\u001b[0m\n\u001b[0m",
            "\u001b[0;32m<ipython-input-2-6b8dc4bfda6d>\u001b[0m in \u001b[0;36mcompile\u001b[0;34m(self, x_train, labels, epochs, learning_rate, decaying_rate, one_hot_encoded)\u001b[0m\n\u001b[1;32m     22\u001b[0m         \u001b[0mimage\u001b[0m\u001b[0;34m,\u001b[0m \u001b[0mlabel\u001b[0m \u001b[0;34m=\u001b[0m \u001b[0mx_train\u001b[0m\u001b[0;34m[\u001b[0m\u001b[0mj\u001b[0m\u001b[0;34m]\u001b[0m\u001b[0;34m,\u001b[0m \u001b[0mlabels\u001b[0m\u001b[0;34m[\u001b[0m\u001b[0mj\u001b[0m\u001b[0;34m]\u001b[0m\u001b[0;34m\u001b[0m\u001b[0;34m\u001b[0m\u001b[0m\n\u001b[1;32m     23\u001b[0m         \u001b[0mpredicted\u001b[0m \u001b[0;34m=\u001b[0m \u001b[0mself\u001b[0m\u001b[0;34m.\u001b[0m\u001b[0mforward\u001b[0m\u001b[0;34m(\u001b[0m\u001b[0mimage\u001b[0m\u001b[0;34m)\u001b[0m\u001b[0;34m\u001b[0m\u001b[0;34m\u001b[0m\u001b[0m\n\u001b[0;32m---> 24\u001b[0;31m         \u001b[0mself\u001b[0m\u001b[0;34m.\u001b[0m\u001b[0mbackward\u001b[0m\u001b[0;34m(\u001b[0m\u001b[0mlabels\u001b[0m\u001b[0;34m[\u001b[0m\u001b[0mj\u001b[0m\u001b[0;34m]\u001b[0m\u001b[0;34m,\u001b[0m\u001b[0mlearning_rate\u001b[0m\u001b[0;34m)\u001b[0m\u001b[0;34m\u001b[0m\u001b[0;34m\u001b[0m\u001b[0m\n\u001b[0m\u001b[1;32m     25\u001b[0m         \u001b[0mloss\u001b[0m \u001b[0;34m-=\u001b[0m \u001b[0mnp\u001b[0m\u001b[0;34m.\u001b[0m\u001b[0mlog\u001b[0m\u001b[0;34m(\u001b[0m\u001b[0mpredicted\u001b[0m\u001b[0;34m[\u001b[0m\u001b[0mlabel\u001b[0m\u001b[0;34m]\u001b[0m\u001b[0;34m)\u001b[0m\u001b[0;34m\u001b[0m\u001b[0;34m\u001b[0m\u001b[0m\n\u001b[1;32m     26\u001b[0m         \u001b[0mpredicted\u001b[0m \u001b[0;34m=\u001b[0m \u001b[0mnp\u001b[0m\u001b[0;34m.\u001b[0m\u001b[0margmax\u001b[0m\u001b[0;34m(\u001b[0m\u001b[0mpredicted\u001b[0m\u001b[0;34m)\u001b[0m\u001b[0;34m\u001b[0m\u001b[0;34m\u001b[0m\u001b[0m\n",
            "\u001b[0;32m<ipython-input-2-6b8dc4bfda6d>\u001b[0m in \u001b[0;36mbackward\u001b[0;34m(self, label, learning_rate)\u001b[0m\n\u001b[1;32m     42\u001b[0m     \u001b[0mself\u001b[0m\u001b[0;34m.\u001b[0m\u001b[0mlayers\u001b[0m\u001b[0;34m[\u001b[0m\u001b[0mlen\u001b[0m\u001b[0;34m(\u001b[0m\u001b[0mself\u001b[0m\u001b[0;34m.\u001b[0m\u001b[0mlayers\u001b[0m\u001b[0;34m)\u001b[0m\u001b[0;34m-\u001b[0m\u001b[0;36m1\u001b[0m\u001b[0;34m]\u001b[0m\u001b[0;34m.\u001b[0m\u001b[0mbackward\u001b[0m\u001b[0;34m(\u001b[0m\u001b[0mlabel\u001b[0m\u001b[0;34m,\u001b[0m\u001b[0mlearning_rate\u001b[0m\u001b[0;34m)\u001b[0m\u001b[0;34m\u001b[0m\u001b[0;34m\u001b[0m\u001b[0m\n\u001b[1;32m     43\u001b[0m     \u001b[0;32mfor\u001b[0m \u001b[0mj\u001b[0m \u001b[0;32min\u001b[0m \u001b[0mrange\u001b[0m\u001b[0;34m(\u001b[0m\u001b[0mlen\u001b[0m\u001b[0;34m(\u001b[0m\u001b[0mself\u001b[0m\u001b[0;34m.\u001b[0m\u001b[0mlayers\u001b[0m\u001b[0;34m)\u001b[0m\u001b[0;34m-\u001b[0m\u001b[0;36m1\u001b[0m\u001b[0;34m)\u001b[0m\u001b[0;34m:\u001b[0m\u001b[0;34m\u001b[0m\u001b[0;34m\u001b[0m\u001b[0m\n\u001b[0;32m---> 44\u001b[0;31m       \u001b[0mself\u001b[0m\u001b[0;34m.\u001b[0m\u001b[0mlayers\u001b[0m\u001b[0;34m[\u001b[0m\u001b[0mlen\u001b[0m\u001b[0;34m(\u001b[0m\u001b[0mself\u001b[0m\u001b[0;34m.\u001b[0m\u001b[0mlayers\u001b[0m\u001b[0;34m)\u001b[0m\u001b[0;34m-\u001b[0m\u001b[0;36m2\u001b[0m\u001b[0;34m-\u001b[0m\u001b[0mj\u001b[0m\u001b[0;34m]\u001b[0m\u001b[0;34m.\u001b[0m\u001b[0mbackward\u001b[0m\u001b[0;34m(\u001b[0m\u001b[0mself\u001b[0m\u001b[0;34m.\u001b[0m\u001b[0mlayers\u001b[0m\u001b[0;34m[\u001b[0m\u001b[0mlen\u001b[0m\u001b[0;34m(\u001b[0m\u001b[0mself\u001b[0m\u001b[0;34m.\u001b[0m\u001b[0mlayers\u001b[0m\u001b[0;34m)\u001b[0m\u001b[0;34m-\u001b[0m\u001b[0;36m1\u001b[0m\u001b[0;34m-\u001b[0m\u001b[0mj\u001b[0m\u001b[0;34m]\u001b[0m\u001b[0;34m.\u001b[0m\u001b[0mderaivative\u001b[0m\u001b[0;34m,\u001b[0m\u001b[0mlearning_rate\u001b[0m\u001b[0;34m)\u001b[0m\u001b[0;34m\u001b[0m\u001b[0;34m\u001b[0m\u001b[0m\n\u001b[0m\u001b[1;32m     45\u001b[0m \u001b[0;34m\u001b[0m\u001b[0m\n\u001b[1;32m     46\u001b[0m   \u001b[0;32mdef\u001b[0m \u001b[0mpredict\u001b[0m\u001b[0;34m(\u001b[0m\u001b[0mself\u001b[0m\u001b[0;34m)\u001b[0m\u001b[0;34m:\u001b[0m\u001b[0;34m\u001b[0m\u001b[0;34m\u001b[0m\u001b[0m\n",
            "\u001b[0;32m<ipython-input-1-b3da8fe82691>\u001b[0m in \u001b[0;36mbackward\u001b[0;34m(self, dl_dx, learning_rate)\u001b[0m\n\u001b[1;32m     62\u001b[0m       \u001b[0mself\u001b[0m\u001b[0;34m.\u001b[0m\u001b[0mderaivative\u001b[0m\u001b[0;34m[\u001b[0m\u001b[0mi\u001b[0m\u001b[0;34m]\u001b[0m \u001b[0;34m=\u001b[0m \u001b[0mnp\u001b[0m\u001b[0;34m.\u001b[0m\u001b[0mdot\u001b[0m\u001b[0;34m(\u001b[0m\u001b[0mdl_dx\u001b[0m\u001b[0;34m,\u001b[0m\u001b[0mself\u001b[0m\u001b[0;34m.\u001b[0m\u001b[0mweights\u001b[0m\u001b[0;34m[\u001b[0m\u001b[0mi\u001b[0m\u001b[0;34m]\u001b[0m\u001b[0;34m)\u001b[0m\u001b[0;34m\u001b[0m\u001b[0;34m\u001b[0m\u001b[0m\n\u001b[1;32m     63\u001b[0m       \u001b[0;32mfor\u001b[0m \u001b[0mj\u001b[0m \u001b[0;32min\u001b[0m \u001b[0mrange\u001b[0m\u001b[0;34m(\u001b[0m\u001b[0mself\u001b[0m\u001b[0;34m.\u001b[0m\u001b[0mshape\u001b[0m\u001b[0;34m[\u001b[0m\u001b[0;36m1\u001b[0m\u001b[0;34m]\u001b[0m\u001b[0;34m)\u001b[0m\u001b[0;34m:\u001b[0m\u001b[0;34m\u001b[0m\u001b[0;34m\u001b[0m\u001b[0m\n\u001b[0;32m---> 64\u001b[0;31m         \u001b[0mdl_dw\u001b[0m\u001b[0;34m[\u001b[0m\u001b[0mi\u001b[0m\u001b[0;34m]\u001b[0m\u001b[0;34m[\u001b[0m\u001b[0mj\u001b[0m\u001b[0;34m]\u001b[0m \u001b[0;34m=\u001b[0m \u001b[0mdl_dx\u001b[0m\u001b[0;34m[\u001b[0m\u001b[0mj\u001b[0m\u001b[0;34m]\u001b[0m \u001b[0;34m*\u001b[0m \u001b[0mself\u001b[0m\u001b[0;34m.\u001b[0m\u001b[0minput\u001b[0m\u001b[0;34m[\u001b[0m\u001b[0mi\u001b[0m\u001b[0;34m]\u001b[0m\u001b[0;34m\u001b[0m\u001b[0;34m\u001b[0m\u001b[0m\n\u001b[0m\u001b[1;32m     65\u001b[0m     \u001b[0mself\u001b[0m\u001b[0;34m.\u001b[0m\u001b[0mweights\u001b[0m \u001b[0;34m-=\u001b[0m \u001b[0mlearning_rate\u001b[0m\u001b[0;34m*\u001b[0m\u001b[0mdl_dw\u001b[0m\u001b[0;34m\u001b[0m\u001b[0;34m\u001b[0m\u001b[0m\n\u001b[1;32m     66\u001b[0m     \u001b[0mself\u001b[0m\u001b[0;34m.\u001b[0m\u001b[0mbaises\u001b[0m \u001b[0;34m-=\u001b[0m \u001b[0mlearning_rate\u001b[0m\u001b[0;34m*\u001b[0m\u001b[0mdl_dx\u001b[0m\u001b[0;34m\u001b[0m\u001b[0;34m\u001b[0m\u001b[0m\n",
            "\u001b[0;31mKeyboardInterrupt\u001b[0m: "
          ]
        }
      ]
    },
    {
      "cell_type": "code",
      "metadata": {
        "colab": {
          "base_uri": "https://localhost:8080/"
        },
        "id": "QCjpcvJKaMaN",
        "outputId": "eb3ee548-228c-49ee-c444-554378af11f0"
      },
      "source": [
        "mnist_example = ds_train.take(100)\n",
        "X_test = []\n",
        "Y_test = []\n",
        "for sample in mnist_example:\n",
        "    X_test.append(sample[0].numpy())\n",
        "    Y_test.append(sample[1].numpy())\n",
        "X_test = np.array(X_test)\n",
        "Y_test = np.array(Y_test)\n",
        "model2.score(X_test/255,Y_test)"
      ],
      "execution_count": 12,
      "outputs": [
        {
          "output_type": "execute_result",
          "data": {
            "text/plain": [
              "0.98"
            ]
          },
          "metadata": {
            "tags": []
          },
          "execution_count": 12
        }
      ]
    },
    {
      "cell_type": "code",
      "metadata": {
        "colab": {
          "base_uri": "https://localhost:8080/"
        },
        "id": "hs56rovqag6M",
        "outputId": "e0ca38e4-35e3-4b8b-c192-ec8e350e7393"
      },
      "source": [
        "model2.summary()"
      ],
      "execution_count": 13,
      "outputs": [
        {
          "output_type": "stream",
          "text": [
            "Conv_layer ====> input_shape : (28, 28, 1) ===========> output_shape : (26, 26, 8) ===========> paramaters : 40\n",
            "==========================================================================================================================================\n",
            "Maxpool_layer ====> input_shape : (26, 26, 8) ===========> output_shape : (13, 13, 8) ===========> paramaters : 0\n",
            "==========================================================================================================================================\n",
            "Relu_layer =======> input_shape : 1352 ===========> output_shape : 40 ===========> paramaters : 54120\n",
            "==========================================================================================================================================\n",
            "Softmax_layer ====> input_shape : 40 ===========> output_shape : 10 ===========> paramaters : 410\n",
            "==========================================================================================================================================\n",
            "layers : 4  ===========>  parameters : 54570\n"
          ],
          "name": "stdout"
        }
      ]
    },
    {
      "cell_type": "code",
      "metadata": {
        "colab": {
          "base_uri": "https://localhost:8080/",
          "height": 1000
        },
        "id": "x5o-Uib_axTT",
        "outputId": "d31ff59c-9fb8-445c-dd9c-f2662b194b76"
      },
      "source": [
        "mnist_example = ds_train.take(6)\n",
        "for sample in mnist_example:\n",
        "    image, label = sample[0].numpy(), sample[1].numpy()\n",
        "    plt.imshow(image[:, :, 0].astype(np.uint8), cmap=plt.get_cmap(\"gray\"))\n",
        "    plt.show()\n",
        "    predicted = np.argmax(model2.forward(image/255))\n",
        "    print(\"Label: %d\" % label)\n",
        "    print(\"predicted: %d\" % predicted)\n"
      ],
      "execution_count": 15,
      "outputs": [
        {
          "output_type": "display_data",
          "data": {
            "image/png": "[encoded data removed]",
            "text/plain": [
              "<Figure size 432x288 with 1 Axes>"
            ]
          },
          "metadata": {
            "tags": [],
            "needs_background": "light"
          }
        },
        {
          "output_type": "stream",
          "text": [
            "Label: 4\n",
            "predicted: 4\n"
          ],
          "name": "stdout"
        },
        {
          "output_type": "display_data",
          "data": {
            "image/png": "[encoded data removed]",
            "text/plain": [
              "<Figure size 432x288 with 1 Axes>"
            ]
          },
          "metadata": {
            "tags": [],
            "needs_background": "light"
          }
        },
        {
          "output_type": "stream",
          "text": [
            "Label: 1\n",
            "predicted: 1\n"
          ],
          "name": "stdout"
        },
        {
          "output_type": "display_data",
          "data": {
            "image/png": "[encoded data removed]",
            "text/plain": [
              "<Figure size 432x288 with 1 Axes>"
            ]
          },
          "metadata": {
            "tags": [],
            "needs_background": "light"
          }
        },
        {
          "output_type": "stream",
          "text": [
            "Label: 0\n",
            "predicted: 0\n"
          ],
          "name": "stdout"
        },
        {
          "output_type": "display_data",
          "data": {
            "image/png": "[encoded data removed]",
            "text/plain": [
              "<Figure size 432x288 with 1 Axes>"
            ]
          },
          "metadata": {
            "tags": [],
            "needs_background": "light"
          }
        },
        {
          "output_type": "stream",
          "text": [
            "Label: 7\n",
            "predicted: 7\n"
          ],
          "name": "stdout"
        },
        {
          "output_type": "display_data",
          "data": {
            "image/png": "[encoded data removed]",
            "text/plain": [
              "<Figure size 432x288 with 1 Axes>"
            ]
          },
          "metadata": {
            "tags": [],
            "needs_background": "light"
          }
        },
        {
          "output_type": "stream",
          "text": [
            "Label: 8\n",
            "predicted: 8\n"
          ],
          "name": "stdout"
        },
        {
          "output_type": "display_data",
          "data": {
            "image/png": "[encoded data removed]",
            "text/plain": [
              "<Figure size 432x288 with 1 Axes>"
            ]
          },
          "metadata": {
            "tags": [],
            "needs_background": "light"
          }
        },
        {
          "output_type": "stream",
          "text": [
            "Label: 1\n",
            "predicted: 1\n"
          ],
          "name": "stdout"
        }
      ]
    }
  ]
}